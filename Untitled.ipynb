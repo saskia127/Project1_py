{
 "cells": [
  {
   "cell_type": "code",
   "execution_count": 3,
   "metadata": {
    "collapsed": true
   },
   "outputs": [],
   "source": [
    "# Example 1 - input\n",
    "n_m = [4,4]\n",
    "e_d = [1,1]\n",
    "e = [0]\n",
    "d = [3]\n",
    "roads = [[0,1,400],\n",
    "         [0,2,600],\n",
    "         [1,3,500],\n",
    "         [2,3,700]]"
   ]
  },
  {
   "cell_type": "code",
   "execution_count": 4,
   "metadata": {
    "collapsed": true
   },
   "outputs": [],
   "source": [
    "max_flow = 0\n",
    "\n",
    "for i in range(0,len(roads)):\n",
    "    for j in range(0,len(roads)):\n",
    "        if roads[i][1] == roads[j][0]:\n",
    "            min_flow = min(roads[i][2], roads[j][2])\n",
    "            max_flow += min_flow"
   ]
  },
  {
   "cell_type": "code",
   "execution_count": 5,
   "metadata": {},
   "outputs": [
    {
     "data": {
      "text/plain": [
       "1000"
      ]
     },
     "execution_count": 5,
     "metadata": {},
     "output_type": "execute_result"
    }
   ],
   "source": [
    "max_flow"
   ]
  },
  {
   "cell_type": "code",
   "execution_count": 388,
   "metadata": {
    "collapsed": true
   },
   "outputs": [],
   "source": [
    "# Example 2 - input\n",
    "n_m = [7,8]\n",
    "e_d = [2,2]\n",
    "e = [0,4]\n",
    "d = [6,3]\n",
    "roads = [[0,6,100],\n",
    "         [4,1,600],\n",
    "         [4,3,500],\n",
    "         [5,4,300],\n",
    "         [5,6,100],\n",
    "         [5,2,500],\n",
    "         [1,2,300],\n",
    "         [2,3,750]]"
   ]
  },
  {
   "cell_type": "code",
   "execution_count": 389,
   "metadata": {
    "collapsed": true
   },
   "outputs": [],
   "source": [
    "roads_new = roads\n",
    "for i in range(0,len(roads)):\n",
    "    if roads[i][0] in e:\n",
    "        roads_new[i][0] = 'source'\n",
    "    if roads[i][1] in d:\n",
    "        roads_new[i][1] = 'sink'"
   ]
  },
  {
   "cell_type": "code",
   "execution_count": 390,
   "metadata": {},
   "outputs": [],
   "source": [
    "new_roads = []\n",
    "index = []\n",
    "\n",
    "for i in range(0,len(roads)):\n",
    "    for j in range(i+1,len(roads)):\n",
    "        if roads[i][0] == roads[j][0] and roads[i][1] == roads[j][1]:\n",
    "            new_roads.append([roads[i][0], roads[i][1], roads[i][2]+roads[j][2]])\n",
    "            index.append(i)\n",
    "            index.append(j)\n",
    "\n",
    "for i in range(0,len(roads)):\n",
    "    if i not in index:\n",
    "        new_roads.append(roads[i])\n"
   ]
  },
  {
   "cell_type": "code",
   "execution_count": 391,
   "metadata": {},
   "outputs": [
    {
     "data": {
      "text/plain": [
       "[['source', 'sink', 600],\n",
       " ['source', 1, 600],\n",
       " [5, 4, 300],\n",
       " [5, 'sink', 100],\n",
       " [5, 2, 500],\n",
       " [1, 2, 300],\n",
       " [2, 'sink', 750]]"
      ]
     },
     "execution_count": 391,
     "metadata": {},
     "output_type": "execute_result"
    }
   ],
   "source": [
    "new_roads"
   ]
  },
  {
   "cell_type": "code",
   "execution_count": 442,
   "metadata": {},
   "outputs": [],
   "source": [
    "max_flow = 0\n",
    "\n",
    "for i in range(0,len(new_roads)):\n",
    "    if new_roads[i][0] == 'source' and new_roads[i][1] == 'sink':\n",
    "        max_flow += new_roads[i][2]\n",
    "    elif new_roads[i][0] == 'source' and new_roads[i][1] in [j[0] for j in new_roads]:\n",
    "        min_flow = min(new_roads[i][2],2)\n",
    "        "
   ]
  },
  {
   "cell_type": "code",
   "execution_count": 431,
   "metadata": {},
   "outputs": [
    {
     "data": {
      "text/plain": [
       "600"
      ]
     },
     "execution_count": 431,
     "metadata": {},
     "output_type": "execute_result"
    }
   ],
   "source": [
    "max_flow"
   ]
  },
  {
   "cell_type": "code",
   "execution_count": 439,
   "metadata": {},
   "outputs": [
    {
     "data": {
      "text/plain": [
       "['source', 'source', 5, 5, 5, 1, 2]"
      ]
     },
     "execution_count": 439,
     "metadata": {},
     "output_type": "execute_result"
    }
   ],
   "source": [
    "[i[0] for i in new_roads]"
   ]
  },
  {
   "cell_type": "code",
   "execution_count": null,
   "metadata": {
    "collapsed": true
   },
   "outputs": [],
   "source": []
  }
 ],
 "metadata": {
  "kernelspec": {
   "display_name": "Python 3",
   "language": "python",
   "name": "python3"
  },
  "language_info": {
   "codemirror_mode": {
    "name": "ipython",
    "version": 3
   },
   "file_extension": ".py",
   "mimetype": "text/x-python",
   "name": "python",
   "nbconvert_exporter": "python",
   "pygments_lexer": "ipython3",
   "version": "3.6.3"
  }
 },
 "nbformat": 4,
 "nbformat_minor": 2
}
